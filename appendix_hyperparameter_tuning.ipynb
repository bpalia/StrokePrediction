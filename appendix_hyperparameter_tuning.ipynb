{
 "cells": [
  {
   "cell_type": "markdown",
   "metadata": {},
   "source": [
    "# Appendix. Hyperparameter Tuning"
   ]
  },
  {
   "cell_type": "markdown",
   "metadata": {},
   "source": [
    "Import necessary libraries and custom function to build sklearn pipes for stroke dataset:"
   ]
  },
  {
   "cell_type": "code",
   "execution_count": 20,
   "metadata": {},
   "outputs": [],
   "source": [
    "import numpy as np\n",
    "import pandas as pd\n",
    "from collections import Counter\n",
    "from sklearn.pipeline import Pipeline\n",
    "from sklearn.preprocessing import StandardScaler, MinMaxScaler\n",
    "from sklearn.linear_model import LogisticRegression\n",
    "from sklearn.ensemble import RandomForestClassifier\n",
    "from sklearn.model_selection import GridSearchCV\n",
    "import xgboost\n",
    "from xgboost import XGBClassifier\n",
    "import lightgbm\n",
    "from lightgbm import LGBMClassifier\n",
    "import joblib\n",
    "from helper_functions.custom_pipes import build_full_pipe"
   ]
  },
  {
   "cell_type": "markdown",
   "metadata": {},
   "source": [
    "Load training data:"
   ]
  },
  {
   "cell_type": "code",
   "execution_count": 21,
   "metadata": {},
   "outputs": [],
   "source": [
    "X_train = pd.read_pickle(\"X_train.pkl\")\n",
    "y_train = pd.read_pickle(\"y_train.pkl\")"
   ]
  },
  {
   "cell_type": "markdown",
   "metadata": {},
   "source": [
    "Create pipelines for all models being tuned."
   ]
  },
  {
   "cell_type": "code",
   "execution_count": 22,
   "metadata": {},
   "outputs": [],
   "source": [
    "logreg = LogisticRegression(class_weight=\"balanced\", random_state=0)\n",
    "forest = RandomForestClassifier(class_weight=\"balanced\", random_state=0)\n",
    "xgb = XGBClassifier(objective=\"binary:logistic\", random_state=0)\n",
    "lgbm = LGBMClassifier(class_weight=\"balanced\", random_state=0, verbose=-1)\n",
    "pipe_logreg = build_full_pipe(logreg)\n",
    "pipe_forest = build_full_pipe(forest)\n",
    "pipe_xgb = build_full_pipe(xgb)\n",
    "pipe_lgbm = build_full_pipe(lgbm)"
   ]
  },
  {
   "cell_type": "markdown",
   "metadata": {},
   "source": [
    "Tune Logistic Regression model and save it to external file:"
   ]
  },
  {
   "cell_type": "code",
   "execution_count": 23,
   "metadata": {},
   "outputs": [
    {
     "name": "stdout",
     "output_type": "stream",
     "text": [
      "Best Logistic Regression parameters:\n",
      " {'model__C': 0.1, 'model__penalty': 'l2', 'model__solver': 'liblinear', 'preprocessor__num__impute__strategy': 'median', 'preprocessor__num__scale': MinMaxScaler()}\n",
      "Average Precision:  0.191\n"
     ]
    },
    {
     "data": {
      "text/plain": [
       "['./tuned_models/best_logreg.sav']"
      ]
     },
     "execution_count": 23,
     "metadata": {},
     "output_type": "execute_result"
    }
   ],
   "source": [
    "params_logreg = {\n",
    "    \"preprocessor__num__impute__strategy\": [\"mean\", \"median\"], \n",
    "    \"preprocessor__num__scale\": [StandardScaler(), MinMaxScaler()],\n",
    "    \"model__solver\": [\"liblinear\"],\n",
    "    \"model__penalty\": [\"l1\", \"l2\"],\n",
    "    \"model__C\": [1, 0.1, 0.01, 0.001],\n",
    "}\n",
    "grid = GridSearchCV(\n",
    "    pipe_logreg, params_logreg, cv=5, scoring=\"average_precision\", n_jobs=-1\n",
    ").fit(X_train, y_train)\n",
    "print(\"Best Logistic Regression parameters:\\n\", grid.best_params_)\n",
    "print(\"Average Precision: \", round(grid.best_score_, 3))\n",
    "best_logreg = grid.best_estimator_\n",
    "joblib.dump(best_logreg, \"./tuned_models/best_logreg.sav\")"
   ]
  },
  {
   "cell_type": "markdown",
   "metadata": {},
   "source": [
    "Tune Random Forest classifier in two steps and save it to external file:"
   ]
  },
  {
   "cell_type": "code",
   "execution_count": 24,
   "metadata": {},
   "outputs": [
    {
     "name": "stdout",
     "output_type": "stream",
     "text": [
      "Best Random Forest parameters:\n",
      " {'model__criterion': 'gini', 'model__max_depth': 5, 'model__max_features': 'sqrt', 'model__max_leaf_nodes': 10, 'preprocessor__num__impute__strategy': 'median', 'preprocessor__num__scale': None}\n",
      "Average Precision:  0.182\n"
     ]
    }
   ],
   "source": [
    "params_forest = {\n",
    "    \"preprocessor__num__impute__strategy\": [\"mean\", \"median\"],\n",
    "    \"preprocessor__num__scale\": [None],\n",
    "    \"model__criterion\": [\"gini\", \"entropy\"],\n",
    "    \"model__max_features\": [\"sqrt\", \"log2\"],\n",
    "    \"model__max_depth\": [5],\n",
    "    \"model__max_leaf_nodes\": [10],\n",
    "}\n",
    "grid = GridSearchCV(\n",
    "    pipe_forest, params_forest, cv=5, scoring=\"average_precision\", n_jobs=-1\n",
    ").fit(X_train, y_train)\n",
    "print(\"Best Random Forest parameters:\\n\", grid.best_params_)\n",
    "print(\"Average Precision: \", round(grid.best_score_, 3))"
   ]
  },
  {
   "cell_type": "code",
   "execution_count": 25,
   "metadata": {},
   "outputs": [
    {
     "name": "stdout",
     "output_type": "stream",
     "text": [
      "Best Random Forest parameters:\n",
      " {'model__criterion': 'gini', 'model__max_depth': 5, 'model__max_features': 'sqrt', 'model__max_leaf_nodes': 10, 'model__min_samples_leaf': 3, 'model__n_estimators': 50, 'preprocessor__num__impute__strategy': 'median', 'preprocessor__num__scale': None}\n",
      "Average Precision:  0.192\n"
     ]
    },
    {
     "data": {
      "text/plain": [
       "['./tuned_models/best_forest.sav']"
      ]
     },
     "execution_count": 25,
     "metadata": {},
     "output_type": "execute_result"
    }
   ],
   "source": [
    "params_forest = {\n",
    "    \"preprocessor__num__impute__strategy\": [\"median\"],\n",
    "    \"preprocessor__num__scale\": [None],\n",
    "    \"model__criterion\": [\"gini\"],\n",
    "    \"model__max_features\": [\"sqrt\"],\n",
    "    \"model__n_estimators\": [30, 40, 50, 60],\n",
    "    \"model__max_depth\": [3, 4, 5, 6],\n",
    "    \"model__max_leaf_nodes\": [5, 10, 15, 20, 25],\n",
    "    \"model__min_samples_leaf\": [1, 2, 3, 4],\n",
    "}\n",
    "grid = GridSearchCV(\n",
    "    pipe_forest, params_forest, cv=5, scoring=\"average_precision\", n_jobs=-1\n",
    ").fit(X_train, y_train)\n",
    "print(\"Best Random Forest parameters:\\n\", grid.best_params_)\n",
    "print(\"Average Precision: \", round(grid.best_score_, 3))\n",
    "best_forest = grid.best_estimator_\n",
    "joblib.dump(best_forest, \"./tuned_models/best_forest.sav\")"
   ]
  },
  {
   "cell_type": "markdown",
   "metadata": {},
   "source": [
    "For boosting classifiers positive class weight need to be calculated. Also, transformed dataset is needed for internal cross-validation."
   ]
  },
  {
   "cell_type": "code",
   "execution_count": 26,
   "metadata": {},
   "outputs": [
    {
     "data": {
      "text/plain": [
       "19.542713567839197"
      ]
     },
     "execution_count": 26,
     "metadata": {},
     "output_type": "execute_result"
    }
   ],
   "source": [
    "preprocessor_pipe = Pipeline(pipe_logreg.steps[:-1])\n",
    "X_train_transformed = preprocessor_pipe.fit_transform(X_train)\n",
    "counter = Counter(y_train)\n",
    "\n",
    "scale_pos_weight = counter[0] / counter[1]\n",
    "scale_pos_weight"
   ]
  },
  {
   "cell_type": "markdown",
   "metadata": {},
   "source": [
    "Stepwise tune XGBoost classifier. For the defined learning rate and some initial parameters, number of estimators is found."
   ]
  },
  {
   "cell_type": "code",
   "execution_count": 27,
   "metadata": {},
   "outputs": [
    {
     "name": "stdout",
     "output_type": "stream",
     "text": [
      "Number of estimators for 0.1 learning rate: 31\n"
     ]
    }
   ],
   "source": [
    "params = {\n",
    "    \"objective\": \"binary:logistic\",\n",
    "    \"random_state\": 0,\n",
    "    \"learning_rate\": 0.1,\n",
    "    \"scale_pos_weight\": scale_pos_weight,\n",
    "    \"max_depth\": 5,\n",
    "    \"min_child_weight\": 1,\n",
    "    \"gamma\": 0.1,\n",
    "    \"subsample\": 0.8,\n",
    "    \"colsample_bytree\": 0.8,\n",
    "}\n",
    "\n",
    "xgtrain = xgboost.DMatrix(X_train_transformed.values, label=y_train.values)\n",
    "cvresult = xgboost.cv(\n",
    "    params,\n",
    "    xgtrain,\n",
    "    num_boost_round=500,\n",
    "    nfold=5,\n",
    "    stratified=True,\n",
    "    metrics=\"aucpr\",\n",
    "    early_stopping_rounds=50,\n",
    ")\n",
    "print(\"Number of estimators for 0.1 learning rate:\", cvresult.shape[0])"
   ]
  },
  {
   "cell_type": "markdown",
   "metadata": {},
   "source": [
    "First, maximum tree depth and minimum leaf weight are found."
   ]
  },
  {
   "cell_type": "code",
   "execution_count": 28,
   "metadata": {},
   "outputs": [
    {
     "name": "stdout",
     "output_type": "stream",
     "text": [
      "Best XGBoost parameters at Step 1:\n",
      " {'model__colsample_bytree': 0.8, 'model__gamma': 0.1, 'model__learning_rate': 0.1, 'model__max_depth': 2, 'model__min_child_weight': 3, 'model__n_estimators': 31, 'model__scale_pos_weight': 19.577, 'model__subsample': 0.8, 'preprocessor__num__impute__strategy': 'constant', 'preprocessor__num__scale': None}\n",
      "Average Precision:  0.239\n"
     ]
    }
   ],
   "source": [
    "params_xgb = {\n",
    "    \"preprocessor__num__impute__strategy\": [\"constant\"],\n",
    "    \"preprocessor__num__scale\": [None],\n",
    "    \"model__scale_pos_weight\": [19.577],\n",
    "    \"model__learning_rate\": [0.1],\n",
    "    \"model__n_estimators\": [31],\n",
    "    \"model__max_depth\": [2, 3, 4, 5, 6],\n",
    "    \"model__min_child_weight\": [1, 2, 3, 4, 5],\n",
    "    \"model__gamma\": [0.1],\n",
    "    \"model__subsample\": [0.8],\n",
    "    \"model__colsample_bytree\": [0.8],\n",
    "}\n",
    "grid = GridSearchCV(\n",
    "    pipe_xgb, params_xgb, cv=5, scoring=\"average_precision\", n_jobs=-1\n",
    ").fit(X_train, y_train)\n",
    "print(\"Best XGBoost parameters at Step 1:\\n\", grid.best_params_)\n",
    "print(\"Average Precision: \", round(grid.best_score_, 3))"
   ]
  },
  {
   "cell_type": "markdown",
   "metadata": {},
   "source": [
    "Second, other tree-based sampling parameters are found."
   ]
  },
  {
   "cell_type": "code",
   "execution_count": 29,
   "metadata": {},
   "outputs": [
    {
     "name": "stdout",
     "output_type": "stream",
     "text": [
      "Best XGBoost parameters at Step 2:\n",
      " {'model__colsample_bytree': 0.6, 'model__gamma': 1, 'model__learning_rate': 0.1, 'model__max_depth': 2, 'model__min_child_weight': 3, 'model__n_estimators': 31, 'model__scale_pos_weight': 19.577, 'model__subsample': 0.8, 'preprocessor__num__impute__strategy': 'constant', 'preprocessor__num__scale': None}\n",
      "Average Precision:  0.24\n"
     ]
    }
   ],
   "source": [
    "params_xgb = {\n",
    "    \"preprocessor__num__impute__strategy\": [\"constant\"],\n",
    "    \"preprocessor__num__scale\": [None],\n",
    "    \"model__scale_pos_weight\": [19.577],\n",
    "    \"model__learning_rate\": [0.1],\n",
    "    \"model__n_estimators\": [31],\n",
    "    \"model__max_depth\": [2],\n",
    "    \"model__min_child_weight\": [3],\n",
    "    \"model__gamma\": [0, 0.1, 0.5, 1, 2, 3],\n",
    "    \"model__subsample\": [0.5, 0.6, 0.7, 0.8, 0.9, 1.0],\n",
    "    \"model__colsample_bytree\": [0.5, 0.6, 0.7, 0.8, 0.9, 1.0],\n",
    "}\n",
    "grid = GridSearchCV(\n",
    "    pipe_xgb, params_xgb, cv=5, scoring=\"average_precision\", n_jobs=-1\n",
    ").fit(X_train, y_train)\n",
    "print(\"Best XGBoost parameters at Step 2:\\n\", grid.best_params_)\n",
    "print(\"Average Precision: \", round(grid.best_score_, 3))"
   ]
  },
  {
   "cell_type": "markdown",
   "metadata": {},
   "source": [
    "Finally, regularization parameters are found and XGBoost classifier is saved to external file."
   ]
  },
  {
   "cell_type": "code",
   "execution_count": 30,
   "metadata": {},
   "outputs": [
    {
     "name": "stdout",
     "output_type": "stream",
     "text": [
      "Best XGBoost parameters at Step 3 (final):\n",
      " {'model__colsample_bytree': 0.6, 'model__gamma': 1, 'model__learning_rate': 0.1, 'model__max_depth': 2, 'model__min_child_weight': 3, 'model__n_estimators': 31, 'model__reg_alpha': 3, 'model__reg_lambda': 1, 'model__scale_pos_weight': 19.577, 'model__subsample': 0.8, 'preprocessor__num__impute__strategy': 'constant', 'preprocessor__num__scale': None}\n",
      "Average Precision:  0.248\n"
     ]
    },
    {
     "data": {
      "text/plain": [
       "['./tuned_models/best_xgb.sav']"
      ]
     },
     "execution_count": 30,
     "metadata": {},
     "output_type": "execute_result"
    }
   ],
   "source": [
    "params_xgb = {\n",
    "    \"preprocessor__num__impute__strategy\": [\"constant\"],\n",
    "    \"preprocessor__num__scale\": [None],\n",
    "    \"model__scale_pos_weight\": [19.577],\n",
    "    \"model__learning_rate\": [0.1],\n",
    "    \"model__n_estimators\": [31],\n",
    "    \"model__max_depth\": [2],\n",
    "    \"model__min_child_weight\": [3],\n",
    "    \"model__gamma\": [1],\n",
    "    \"model__subsample\": [0.8],\n",
    "    \"model__colsample_bytree\": [0.6],\n",
    "    \"model__reg_lambda\": [0.01, 0.1, 0.5, 1, 2, 3],\n",
    "    \"model__reg_alpha\": [0.01, 0.1, 0.5, 1, 2, 3, 4],\n",
    "}\n",
    "grid = GridSearchCV(\n",
    "    pipe_xgb, params_xgb, cv=5, scoring=\"average_precision\", n_jobs=-1\n",
    ").fit(X_train, y_train)\n",
    "print(\"Best XGBoost parameters at Step 3 (final):\\n\", grid.best_params_)\n",
    "print(\"Average Precision: \", round(grid.best_score_, 3))\n",
    "best_xgb = grid.best_estimator_\n",
    "joblib.dump(best_xgb, \"./tuned_models/best_xgb.sav\")"
   ]
  },
  {
   "cell_type": "markdown",
   "metadata": {},
   "source": [
    "The same stepwise tuning approach is used for LightGBM classifier. For the defined learning rate, number of estimators is found."
   ]
  },
  {
   "cell_type": "code",
   "execution_count": 31,
   "metadata": {},
   "outputs": [
    {
     "name": "stdout",
     "output_type": "stream",
     "text": [
      "Training until validation scores don't improve for 50 rounds\n",
      "Early stopping, best iteration is:\n",
      "[16]\tcv_agg's valid average_precision: 0.201244 + 0.0134795\n",
      "Number of estimators for 0.1 learning rate: 16\n"
     ]
    }
   ],
   "source": [
    "params = {\n",
    "    \"objective\": \"binary\",\n",
    "    \"random_state\": 0,\n",
    "    \"scale_pos_weight\": scale_pos_weight,\n",
    "    \"learning_rate\": 0.1,\n",
    "    \"max_depth\": 5,\n",
    "    \"num_leaves\": 16,\n",
    "    \"min_child_weight\": 1,\n",
    "    \"subsample_freq\": 1,\n",
    "    \"subsample\": 0.8,\n",
    "    \"colsample_bytree\": 0.8,\n",
    "    \"verbose\": -1,\n",
    "}\n",
    "lgbmtrain = lightgbm.Dataset(X_train_transformed.values, label=y_train.values)\n",
    "cvresult = lightgbm.cv(\n",
    "    params,\n",
    "    lgbmtrain,\n",
    "    num_boost_round=500,\n",
    "    nfold=5,\n",
    "    metrics=\"average_precision\",\n",
    "    callbacks=[lightgbm.early_stopping(stopping_rounds=50)],\n",
    ")\n",
    "print(\n",
    "    \"Number of estimators for 0.1 learning rate:\",\n",
    "    np.argmax(cvresult[\"valid average_precision-mean\"]) + 1,\n",
    ")"
   ]
  },
  {
   "cell_type": "markdown",
   "metadata": {},
   "source": [
    "First, tree-level parameters are tuned."
   ]
  },
  {
   "cell_type": "code",
   "execution_count": 32,
   "metadata": {},
   "outputs": [
    {
     "name": "stdout",
     "output_type": "stream",
     "text": [
      "Best LightGBM parameters at Step 1:\n",
      " {'model__colsample_bytree': 0.8, 'model__learning_rate': 0.1, 'model__max_depth': 4, 'model__min_child_weight': 6, 'model__n_estimators': 16, 'model__num_leaves': 10, 'model__scale_pos_weight': 19.577, 'model__subsample': 0.8, 'model__subsample_freq': 1, 'preprocessor__num__impute__strategy': 'constant', 'preprocessor__num__scale': None}\n",
      "Average Precision:  0.235\n"
     ]
    }
   ],
   "source": [
    "params_lgbm = {\n",
    "    \"preprocessor__num__impute__strategy\": [\"constant\"],\n",
    "    \"preprocessor__num__scale\": [None],\n",
    "    \"model__scale_pos_weight\": [19.577],\n",
    "    \"model__learning_rate\": [0.1],\n",
    "    \"model__n_estimators\": [16],\n",
    "    \"model__max_depth\": [3, 4, 5, 6, 7],\n",
    "    \"model__num_leaves\": [5, 10, 16, 20, 25],\n",
    "    \"model__min_child_weight\": [1, 2, 3, 4, 5, 6, 7],\n",
    "    \"model__subsample_freq\": [1],\n",
    "    \"model__subsample\": [0.8],\n",
    "    \"model__colsample_bytree\": [0.8],\n",
    "}\n",
    "grid = GridSearchCV(\n",
    "    pipe_lgbm, params_lgbm, cv=5, scoring=\"average_precision\", n_jobs=-1\n",
    ").fit(X_train, y_train)\n",
    "print(\"Best LightGBM parameters at Step 1:\\n\", grid.best_params_)\n",
    "print(\"Average Precision: \", round(grid.best_score_, 3))"
   ]
  },
  {
   "cell_type": "markdown",
   "metadata": {},
   "source": [
    "Second, sampling parameters are tuned."
   ]
  },
  {
   "cell_type": "code",
   "execution_count": 33,
   "metadata": {},
   "outputs": [
    {
     "name": "stdout",
     "output_type": "stream",
     "text": [
      "Best LightGBM parameters at Step 2:\n",
      " {'model__colsample_bytree': 0.7, 'model__learning_rate': 0.1, 'model__max_depth': 4, 'model__min_child_weight': 6, 'model__n_estimators': 16, 'model__num_leaves': 10, 'model__scale_pos_weight': 19.577, 'model__subsample': 1.0, 'model__subsample_freq': 1, 'preprocessor__num__impute__strategy': 'constant', 'preprocessor__num__scale': None}\n",
      "Average Precision:  0.237\n"
     ]
    }
   ],
   "source": [
    "params_lgbm = {\n",
    "    \"preprocessor__num__impute__strategy\": [\"constant\"],\n",
    "    \"preprocessor__num__scale\": [None],\n",
    "    \"model__scale_pos_weight\": [19.577],\n",
    "    \"model__learning_rate\": [0.1],\n",
    "    \"model__n_estimators\": [16],\n",
    "    \"model__max_depth\": [4],\n",
    "    \"model__num_leaves\": [10],\n",
    "    \"model__min_child_weight\": [6],\n",
    "    \"model__subsample_freq\": [1, 2, 5],\n",
    "    \"model__subsample\": [0.5, 0.6, 0.7, 0.8, 0.9, 1.0],\n",
    "    \"model__colsample_bytree\": [0.5, 0.6, 0.7, 0.8, 0.9, 1.0],\n",
    "}\n",
    "grid = GridSearchCV(\n",
    "    pipe_lgbm, params_lgbm, cv=5, scoring=\"average_precision\", n_jobs=-1\n",
    ").fit(X_train, y_train)\n",
    "print(\"Best LightGBM parameters at Step 2:\\n\", grid.best_params_)\n",
    "print(\"Average Precision: \", round(grid.best_score_, 3))"
   ]
  },
  {
   "cell_type": "markdown",
   "metadata": {},
   "source": [
    "Finally, regularization parameters are found and classifier is saved to external file."
   ]
  },
  {
   "cell_type": "code",
   "execution_count": 34,
   "metadata": {},
   "outputs": [
    {
     "name": "stdout",
     "output_type": "stream",
     "text": [
      "Best LightGBM parameters at Step 3 (final):\n",
      " {'model__colsample_bytree': 0.7, 'model__learning_rate': 0.1, 'model__max_depth': 4, 'model__min_child_weight': 6, 'model__n_estimators': 16, 'model__num_leaves': 10, 'model__reg_alpha': 0.05, 'model__reg_lambda': 1, 'model__scale_pos_weight': 19.577, 'model__subsample': 1.0, 'model__subsample_freq': 1, 'preprocessor__num__impute__strategy': 'constant', 'preprocessor__num__scale': None}\n",
      "Average Precision:  0.245\n"
     ]
    },
    {
     "data": {
      "text/plain": [
       "['./tuned_models/best_lgbm.sav']"
      ]
     },
     "execution_count": 34,
     "metadata": {},
     "output_type": "execute_result"
    }
   ],
   "source": [
    "params_lgbm = {\n",
    "    \"preprocessor__num__impute__strategy\": [\"constant\"],\n",
    "    \"preprocessor__num__scale\": [None],\n",
    "    \"model__scale_pos_weight\": [19.577],\n",
    "    \"model__learning_rate\": [0.1],\n",
    "    \"model__n_estimators\": [16],\n",
    "    \"model__max_depth\": [4],\n",
    "    \"model__num_leaves\": [10],\n",
    "    \"model__min_child_weight\": [6],\n",
    "    \"model__subsample_freq\": [1],\n",
    "    \"model__subsample\": [1.0],\n",
    "    \"model__colsample_bytree\": [0.7],\n",
    "    \"model__reg_lambda\": [0, 0.01, 0.02, 0.05, 0.1, 0.2, 0.5, 1],\n",
    "    \"model__reg_alpha\": [0, 0.01, 0.02, 0.05, 0.1, 0.2, 0.5, 1],\n",
    "}\n",
    "grid = GridSearchCV(\n",
    "    pipe_lgbm, params_lgbm, cv=5, scoring=\"average_precision\", n_jobs=-1\n",
    ").fit(X_train, y_train)\n",
    "print(\"Best LightGBM parameters at Step 3 (final):\\n\", grid.best_params_)\n",
    "print(\"Average Precision: \", round(grid.best_score_, 3))\n",
    "best_lgbm = grid.best_estimator_\n",
    "joblib.dump(best_lgbm, \"./tuned_models/best_lgbm.sav\")"
   ]
  }
 ],
 "metadata": {
  "kernelspec": {
   "display_name": ".venv",
   "language": "python",
   "name": "python3"
  },
  "language_info": {
   "codemirror_mode": {
    "name": "ipython",
    "version": 3
   },
   "file_extension": ".py",
   "mimetype": "text/x-python",
   "name": "python",
   "nbconvert_exporter": "python",
   "pygments_lexer": "ipython3",
   "version": "3.10.11"
  }
 },
 "nbformat": 4,
 "nbformat_minor": 2
}
